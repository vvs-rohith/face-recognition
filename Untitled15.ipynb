{
  "nbformat": 4,
  "nbformat_minor": 0,
  "metadata": {
    "colab": {
      "name": "Untitled15.ipynb",
      "provenance": [],
      "authorship_tag": "ABX9TyNagnAA5mtTOVxAq8t00HuK",
      "include_colab_link": true
    },
    "kernelspec": {
      "name": "python3",
      "display_name": "Python 3"
    }
  },
  "cells": [
    {
      "cell_type": "markdown",
      "metadata": {
        "id": "view-in-github",
        "colab_type": "text"
      },
      "source": [
        "<a href=\"https://colab.research.google.com/github/vvs-rohith/face-recognition/blob/master/Untitled15.ipynb\" target=\"_parent\"><img src=\"https://colab.research.google.com/assets/colab-badge.svg\" alt=\"Open In Colab\"/></a>"
      ]
    },
    {
      "cell_type": "code",
      "metadata": {
        "id": "QQ2hu_yhW_4e",
        "colab_type": "code",
        "colab": {}
      },
      "source": [
        "import sys\n",
        "import numpy as np\n",
        "import scipy\n",
        "import matplotlib as plt\n",
        "import pandas as pd\n",
        "import sklearn"
      ],
      "execution_count": 0,
      "outputs": []
    },
    {
      "cell_type": "code",
      "metadata": {
        "id": "GavhQrGYYLKx",
        "colab_type": "code",
        "colab": {}
      },
      "source": [
        "from pandas.plotting import scatter_matrix\n",
        "from matplotlib import pyplot\n",
        "from sklearn.model_selection import train_test_split\n",
        "from sklearn.model_selection import cross_val_score\n",
        "from sklearn.model_selection import StratifiedKFold\n",
        "from sklearn.metrics import classification_report\n",
        "from sklearn.metrics import confusion_matrix\n",
        "from sklearn.metrics import accuracy_score\n",
        "from sklearn.linear_model import LogisticRegression\n",
        "from sklearn.tree import DecisionTreeClassifier\n",
        "from sklearn.neighbors import KNeighborsClassifier\n",
        "from sklearn.discriminant_analysis import LinearDiscriminantAnalysis\n",
        "from sklearn.naive_bayes import GaussianNB\n",
        "from sklearn.svm import SVC\n",
        "from sklearn import model_selection\n",
        "from sklearn.ensemble import VotingClassifier\n",
        "from pandas import read_csv"
      ],
      "execution_count": 0,
      "outputs": []
    },
    {
      "cell_type": "code",
      "metadata": {
        "id": "ctGt-GLCk46Q",
        "colab_type": "code",
        "colab": {}
      },
      "source": [
        "path='https://gist.github.com/curran/a08a1080b88344b0c8a7'\n",
        "names=['sepal-length','sepal-width','petal-length','petal-width','class']\n",
        "dataset=read_csv(url,names=names)"
      ],
      "execution_count": 0,
      "outputs": []
    },
    {
      "cell_type": "code",
      "metadata": {
        "id": "QSzkkWdwmDy-",
        "colab_type": "code",
        "colab": {}
      },
      "source": [
        "print(dataset.shape)"
      ],
      "execution_count": 0,
      "outputs": []
    },
    {
      "cell_type": "code",
      "metadata": {
        "id": "SbS5ldWEm1uN",
        "colab_type": "code",
        "colab": {}
      },
      "source": [
        "print(dataset.head(20))"
      ],
      "execution_count": 0,
      "outputs": []
    },
    {
      "cell_type": "code",
      "metadata": {
        "id": "HJ4VfkavnSHl",
        "colab_type": "code",
        "colab": {}
      },
      "source": [
        "print(dataset.describe())"
      ],
      "execution_count": 0,
      "outputs": []
    },
    {
      "cell_type": "code",
      "metadata": {
        "id": "zGrr_gTYnZ7J",
        "colab_type": "code",
        "colab": {}
      },
      "source": [
        "print(dataset.groupby('class').size())"
      ],
      "execution_count": 0,
      "outputs": []
    },
    {
      "cell_type": "code",
      "metadata": {
        "id": "ldFLACU-sOtC",
        "colab_type": "code",
        "colab": {}
      },
      "source": [
        "dataset.plot(kind='box',subplot='true',layout=(2,3),sharex=False,sharey=False)"
      ],
      "execution_count": 0,
      "outputs": []
    },
    {
      "cell_type": "code",
      "metadata": {
        "id": "Ejefu4AUseoG",
        "colab_type": "code",
        "colab": {}
      },
      "source": [
        "dataset.hist()\n",
        "pyplot.show()"
      ],
      "execution_count": 0,
      "outputs": []
    },
    {
      "cell_type": "code",
      "metadata": {
        "id": "PKBLaxzms8JE",
        "colab_type": "code",
        "colab": {}
      },
      "source": [
        "scatter_matrix(dataset)\n",
        "pyplot.show()"
      ],
      "execution_count": 0,
      "outputs": []
    },
    {
      "cell_type": "code",
      "metadata": {
        "id": "95xjGXbqs9np",
        "colab_type": "code",
        "colab": {}
      },
      "source": [
        "array= dataset.values\n",
        "X=array[:,0:4]\n",
        "y=array[:,4]\n",
        "X_train,X_valudation,Y_train,Y_validation=train_test_split(X,y,test_size=0.2,random_state=1)"
      ],
      "execution_count": 0,
      "outputs": []
    },
    {
      "cell_type": "code",
      "metadata": {
        "id": "8xy9mC7Uud_L",
        "colab_type": "code",
        "colab": {}
      },
      "source": [
        "model=[]\n",
        "model.append(('LR',LogisticRegression(solver='liblinear',multi_class='ovr')))\n",
        "model.append(('LDA',LinearDiscriminantAnalysis()))\n",
        "model.append(('KNN',KNeighborsClassifier()))\n",
        "model.append(('NB',GaussianNB()))\n",
        "model.append(('SVM',SVC(gamma='auto')))\n"
      ],
      "execution_count": 0,
      "outputs": []
    },
    {
      "cell_type": "code",
      "metadata": {
        "id": "ceDFIVOzvyJj",
        "colab_type": "code",
        "colab": {}
      },
      "source": [
        "results=[]\n",
        "names=[]\n",
        "for name,model in models:\n",
        "  kfold= stratifiedKfold(n_splits=10,random_state=1)\n",
        "  cv_results=cross_val_score(model,X_train,Y_train,cv=kfold,scoring='accuracy')\n",
        "  results.append(name)\n",
        "  print(('%s: %f (%f)') % (name,cv_results.mean(),cv_results.std()))"
      ],
      "execution_count": 0,
      "outputs": []
    },
    {
      "cell_type": "code",
      "metadata": {
        "id": "hL1mEkQYybam",
        "colab_type": "code",
        "colab": {}
      },
      "source": [
        "pyplot.boxplot(results,labels=names)\n",
        "pyplot.title('Algorithm comparision')\n",
        "pyplot.show()"
      ],
      "execution_count": 0,
      "outputs": []
    },
    {
      "cell_type": "code",
      "metadata": {
        "id": "iXyPvylKyw7b",
        "colab_type": "code",
        "colab": {}
      },
      "source": [
        "model= SVC(gamma='auto')\n",
        "model.fit(X_train,Y_train)\n",
        "predictions=model.pridict(X_validation)"
      ],
      "execution_count": 0,
      "outputs": []
    },
    {
      "cell_type": "code",
      "metadata": {
        "id": "tocZ5jPGy4xK",
        "colab_type": "code",
        "colab": {
          "base_uri": "https://localhost:8080/",
          "height": 199
        },
        "outputId": "6862785b-5f84-476d-bc0a-9dfb90353ba1"
      },
      "source": [
        "print(accuracy_score(Y_validation,pridictions))\n",
        "print(confusion_matrix(Y_validation,pridictions))\n",
        "print(classification_report(Y_validation,pridictions))"
      ],
      "execution_count": 96,
      "outputs": [
        {
          "output_type": "error",
          "ename": "NameError",
          "evalue": "ignored",
          "traceback": [
            "\u001b[0;31m---------------------------------------------------------------------------\u001b[0m",
            "\u001b[0;31mNameError\u001b[0m                                 Traceback (most recent call last)",
            "\u001b[0;32m<ipython-input-96-3a213db81e56>\u001b[0m in \u001b[0;36m<module>\u001b[0;34m()\u001b[0m\n\u001b[0;32m----> 1\u001b[0;31m \u001b[0mprint\u001b[0m\u001b[0;34m(\u001b[0m\u001b[0maccuracy_score\u001b[0m\u001b[0;34m(\u001b[0m\u001b[0mY_validation\u001b[0m\u001b[0;34m,\u001b[0m\u001b[0mpridiction\u001b[0m\u001b[0;34m)\u001b[0m\u001b[0;34m)\u001b[0m\u001b[0;34m\u001b[0m\u001b[0;34m\u001b[0m\u001b[0m\n\u001b[0m\u001b[1;32m      2\u001b[0m \u001b[0mprint\u001b[0m\u001b[0;34m(\u001b[0m\u001b[0mconfusion_matrix\u001b[0m\u001b[0;34m(\u001b[0m\u001b[0mY_validation\u001b[0m\u001b[0;34m,\u001b[0m\u001b[0mpridiction\u001b[0m\u001b[0;34m)\u001b[0m\u001b[0;34m)\u001b[0m\u001b[0;34m\u001b[0m\u001b[0;34m\u001b[0m\u001b[0m\n\u001b[1;32m      3\u001b[0m \u001b[0mprint\u001b[0m\u001b[0;34m(\u001b[0m\u001b[0mclassification_report\u001b[0m\u001b[0;34m(\u001b[0m\u001b[0mY_validation\u001b[0m\u001b[0;34m,\u001b[0m\u001b[0mpridiction\u001b[0m\u001b[0;34m)\u001b[0m\u001b[0;34m)\u001b[0m\u001b[0;34m\u001b[0m\u001b[0;34m\u001b[0m\u001b[0m\n",
            "\u001b[0;31mNameError\u001b[0m: name 'pridiction' is not defined"
          ]
        }
      ]
    }
  ]
}